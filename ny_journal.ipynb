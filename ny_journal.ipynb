{
 "cells": [
  {
   "cell_type": "code",
   "execution_count": 1,
   "metadata": {},
   "outputs": [],
   "source": [
    "import time\n",
    "from bs4 import BeautifulSoup\n",
    "import requests\n",
    "from tqdm import tqdm"
   ]
  },
  {
   "cell_type": "markdown",
   "metadata": {},
   "source": [
    "## Generating dates\n",
    "https://stackoverflow.com/questions/7274267/print-all-day-dates-between-two-dates"
   ]
  },
  {
   "cell_type": "code",
   "execution_count": 2,
   "metadata": {},
   "outputs": [],
   "source": [
    "from datetime import date, timedelta\n",
    "\n",
    "def create_date_range(year):\n",
    "    date_list = [] #list of dates\n",
    "    d1 = date(year, 1, 1)  # start date\n",
    "    d2 = date(year, 12, 31)  # end date\n",
    "    \n",
    "    delta = d2 - d1         # timedelta\n",
    "\n",
    "    for i in range(delta.days + 1):\n",
    "        date_list.append(d1 + timedelta(i))\n",
    "    \n",
    "    return date_list"
   ]
  },
  {
   "cell_type": "code",
   "execution_count": 3,
   "metadata": {},
   "outputs": [],
   "source": [
    "date_1898 = create_date_range(1898)"
   ]
  },
  {
   "cell_type": "code",
   "execution_count": 4,
   "metadata": {},
   "outputs": [],
   "source": [
    "def get_no_pages(url):\n",
    "    page = requests.get(url)\n",
    "    soup = BeautifulSoup(page.text, 'html.parser')\n",
    "    \n",
    "    page_sequence = soup.find('select', {'id': 'page'}) # fixed\n",
    "    no_pages = page_sequence.findAll('option')\n",
    "    \n",
    "    last_page = no_pages[-1].text\n",
    "    \n",
    "    return last_page"
   ]
  },
  {
   "cell_type": "code",
   "execution_count": 5,
   "metadata": {},
   "outputs": [],
   "source": [
    "def download_ocr_newspapers(period, ed = 1):\n",
    "    \n",
    "    for date in tqdm(period): # tqdm is for you to see the progress\n",
    "        url_pattern = 'https://www.loc.gov/resource/sn83030180/'+str(date)+'/ed-'+ str(ed) +'/?sp='\n",
    "        print(url_pattern)\n",
    "        #if date.weekday() == 6: # no issues on Sunday\n",
    "        #    pass  \n",
    "        name = str(date.year) + '_' + str(date.month) + '_' + str(date.day) + '_' + 'ocr.txt'\n",
    "        no_pages = get_no_pages(url_pattern + '1') #finding the no of pages\n",
    "        edition = [] # array for collecting pages\n",
    "            \n",
    "        for page in range(1, int(no_pages)+1):\n",
    "            text = requests.get(url_pattern + str(page) + '&st=text').text # ocr text page \n",
    "            soup = BeautifulSoup(text, 'html.parser')\n",
    "            ocr_text = soup.find('div', {'id': 'page-fulltext-item.text-pane-inner-box'})\n",
    "            edition.append(ocr_text)\n",
    "        with open(name, 'w', encoding = 'utf-8') as f:    \n",
    "            f.write('\\n'.join(edition)) #  write all pages in one file\n",
    "        time.sleep(5)\n",
    "    print('Done!')"
   ]
  },
  {
   "cell_type": "code",
   "execution_count": null,
   "metadata": {
    "scrolled": true
   },
   "outputs": [
    {
     "name": "stderr",
     "output_type": "stream",
     "text": [
      "\n",
      "  0%|          | 0/56 [00:00<?, ?it/s]\u001b[A"
     ]
    },
    {
     "name": "stdout",
     "output_type": "stream",
     "text": [
      "https://www.loc.gov/resource/sn83030180/1898-11-06/ed-1/?sp=\n"
     ]
    }
   ],
   "source": [
    "download_ocr_newspapers(date_1898[309:365], ed = 1)"
   ]
  },
  {
   "cell_type": "code",
   "execution_count": null,
   "metadata": {
    "scrolled": true
   },
   "outputs": [],
   "source": [
    "#get_no_pages('https://www.loc.gov/resource/sn83030180/1897-04-04/ed-1/?sp=1&st=text')"
   ]
  },
  {
   "cell_type": "code",
   "execution_count": null,
   "metadata": {},
   "outputs": [],
   "source": [
    "for i in range(1, 12):\n",
    "    print(i)"
   ]
  },
  {
   "cell_type": "code",
   "execution_count": null,
   "metadata": {
    "collapsed": true
   },
   "outputs": [],
   "source": []
  }
 ],
 "metadata": {
  "kernelspec": {
   "display_name": "Python 3",
   "language": "python",
   "name": "python3"
  },
  "language_info": {
   "codemirror_mode": {
    "name": "ipython",
    "version": 3
   },
   "file_extension": ".py",
   "mimetype": "text/x-python",
   "name": "python",
   "nbconvert_exporter": "python",
   "pygments_lexer": "ipython3",
   "version": "3.6.8"
  }
 },
 "nbformat": 4,
 "nbformat_minor": 2
}
