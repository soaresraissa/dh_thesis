{
 "cells": [
  {
   "cell_type": "code",
   "execution_count": 1,
   "metadata": {},
   "outputs": [],
   "source": [
    "import time\n",
    "from bs4 import BeautifulSoup\n",
    "import requests\n",
    "from tqdm import tqdm"
   ]
  },
  {
   "cell_type": "markdown",
   "metadata": {},
   "source": [
    "## Generating dates\n",
    "https://stackoverflow.com/questions/7274267/print-all-day-dates-between-two-dates"
   ]
  },
  {
   "cell_type": "code",
   "execution_count": 2,
   "metadata": {},
   "outputs": [],
   "source": [
    "from datetime import date, timedelta\n",
    "\n",
    "def create_date_range(year):\n",
    "    date_list = [] #list of dates\n",
    "    d1 = date(year, 1, 1)  # start date\n",
    "    d2 = date(year, 12, 31)  # end date\n",
    "    \n",
    "    delta = d2 - d1         # timedelta\n",
    "\n",
    "    for i in range(delta.days + 1):\n",
    "        date_list.append(d1 + timedelta(i))\n",
    "    \n",
    "    return date_list"
   ]
  },
  {
   "cell_type": "code",
   "execution_count": 4,
   "metadata": {},
   "outputs": [],
   "source": [
    "date_1897 = create_date_range(1897)"
   ]
  },
  {
   "cell_type": "code",
   "execution_count": 25,
   "metadata": {},
   "outputs": [
    {
     "ename": "SyntaxError",
     "evalue": "invalid syntax (<ipython-input-25-8dd14b851316>, line 1)",
     "output_type": "error",
     "traceback": [
      "\u001b[0;36m  File \u001b[0;32m\"<ipython-input-25-8dd14b851316>\"\u001b[0;36m, line \u001b[0;32m1\u001b[0m\n\u001b[0;31m    date_1897[].weekday()\u001b[0m\n\u001b[0m              ^\u001b[0m\n\u001b[0;31mSyntaxError\u001b[0m\u001b[0;31m:\u001b[0m invalid syntax\n"
     ]
    }
   ],
   "source": [
    "date_1897[].weekday()"
   ]
  },
  {
   "cell_type": "code",
   "execution_count": 5,
   "metadata": {},
   "outputs": [],
   "source": [
    "def get_no_pages(url, header):\n",
    "    page = requests.get(url, headers = header)\n",
    "    soup = BeautifulSoup(page.text, 'html.parser')\n",
    "    \n",
    "    page_sequence = soup.find('span', {'class': 'c-images'})\n",
    "    no_pages = page_sequence.findAll('option')\n",
    "    \n",
    "    last_page = no_pages[-1].text\n",
    "    \n",
    "    return last_page"
   ]
  },
  {
   "cell_type": "code",
   "execution_count": 6,
   "metadata": {},
   "outputs": [],
   "source": [
    "def download_ocr_newspapers(period, ed = 1):\n",
    "    header = {'user-agent':'put your user agent here'}\n",
    "    \n",
    "    for date in tqdm(period): # tqdm is for you to see the progress\n",
    "        url_pattern = 'https://chroniclingamerica.loc.gov/lccn/sn83030272/'+str(date)+'/ed-'+ str(ed) +'/seq-'\n",
    "        #print(url_pattern)\n",
    "        #if date.weekday() == 6: # no issues on Sunday\n",
    "        #    pass  \n",
    "        name = str(date.year) + '_' + str(date.month) + '_' + str(date.day) + '_' + 'ocr.txt'\n",
    "        no_pages = get_no_pages(url_pattern + '1/', header) #finding the no of pages\n",
    "        edition = [] # array for collecting pages\n",
    "            \n",
    "        for page in range(1, int(no_pages)+1):\n",
    "            ocr_text = requests.get(url_pattern + str(page) + '/ocr.txt', headers = header).text # ocr text page \n",
    "            edition.append(ocr_text)\n",
    "                \n",
    "        with open(name, 'w', encoding = 'utf-8') as f:    \n",
    "                f.write('\\n'.join(edition)) #  write all pages in one file\n",
    "                \n",
    "        time.sleep(10)\n",
    "        \n",
    "    print('Done!')"
   ]
  },
  {
   "cell_type": "code",
   "execution_count": 8,
   "metadata": {},
   "outputs": [
    {
     "name": "stderr",
     "output_type": "stream",
     "text": [
      "100%|██████████| 30/30 [09:31<00:00, 21.01s/it]"
     ]
    },
    {
     "name": "stdout",
     "output_type": "stream",
     "text": [
      "Done!\n"
     ]
    },
    {
     "name": "stderr",
     "output_type": "stream",
     "text": [
      "\n"
     ]
    }
   ],
   "source": [
    "download_ocr_newspapers(date_1897[1:31], ed = 1)"
   ]
  },
  {
   "cell_type": "code",
   "execution_count": null,
   "metadata": {
    "collapsed": true
   },
   "outputs": [],
   "source": []
  }
 ],
 "metadata": {
  "kernelspec": {
   "display_name": "Python 3",
   "language": "python",
   "name": "python3"
  },
  "language_info": {
   "codemirror_mode": {
    "name": "ipython",
    "version": 3
   },
   "file_extension": ".py",
   "mimetype": "text/x-python",
   "name": "python",
   "nbconvert_exporter": "python",
   "pygments_lexer": "ipython3",
   "version": "3.6.8"
  }
 },
 "nbformat": 4,
 "nbformat_minor": 2
}
